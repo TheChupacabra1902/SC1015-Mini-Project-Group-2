{
 "cells": [
  {
   "cell_type": "markdown",
   "id": "2466feae",
   "metadata": {},
   "source": [
    "### Importing Essential Libraries\n",
    "\n",
    "> NumPy : Library for Numeric Computations in Python  \n",
    "> Pandas : Library for Data Acquisition and Preparation  \n",
    "> Matplotlib : Low-level library for Data Visualization  \n",
    "> Seaborn : Higher-level library for Data Visualization  "
   ]
  },
  {
   "cell_type": "code",
   "execution_count": 1,
   "id": "ae607339",
   "metadata": {},
   "outputs": [],
   "source": [
    "# Basic Libraries\n",
    "import numpy as np\n",
    "import pandas as pd\n",
    "import seaborn as sb\n",
    "import matplotlib.pyplot as plt # we only need pyplot\n",
    "sb.set() # set the default Seaborn style for graphics"
   ]
  },
  {
   "cell_type": "markdown",
   "id": "17bc6c7f",
   "metadata": {},
   "source": [
    "### Importing Dataset \"Sales\""
   ]
  },
  {
   "cell_type": "code",
   "execution_count": 2,
   "id": "4c4bc4d4",
   "metadata": {},
   "outputs": [
    {
     "data": {
      "text/html": [
       "<div>\n",
       "<style scoped>\n",
       "    .dataframe tbody tr th:only-of-type {\n",
       "        vertical-align: middle;\n",
       "    }\n",
       "\n",
       "    .dataframe tbody tr th {\n",
       "        vertical-align: top;\n",
       "    }\n",
       "\n",
       "    .dataframe thead th {\n",
       "        text-align: right;\n",
       "    }\n",
       "</style>\n",
       "<table border=\"1\" class=\"dataframe\">\n",
       "  <thead>\n",
       "    <tr style=\"text-align: right;\">\n",
       "      <th></th>\n",
       "      <th>Brands</th>\n",
       "      <th>Models</th>\n",
       "      <th>Colors</th>\n",
       "      <th>Memory</th>\n",
       "      <th>Storage</th>\n",
       "      <th>Camera</th>\n",
       "      <th>Rating</th>\n",
       "      <th>Selling Price</th>\n",
       "      <th>Original Price</th>\n",
       "      <th>Mobile</th>\n",
       "      <th>Discount</th>\n",
       "      <th>discount percentage</th>\n",
       "    </tr>\n",
       "  </thead>\n",
       "  <tbody>\n",
       "    <tr>\n",
       "      <th>0</th>\n",
       "      <td>SAMSUNG</td>\n",
       "      <td>GALAXY M31S</td>\n",
       "      <td>Mirage Black</td>\n",
       "      <td>8 GB</td>\n",
       "      <td>128 GB</td>\n",
       "      <td>Yes</td>\n",
       "      <td>4.3</td>\n",
       "      <td>19330</td>\n",
       "      <td>20999</td>\n",
       "      <td>SAMSUNG GALAXY M31S</td>\n",
       "      <td>1669</td>\n",
       "      <td>7.947998</td>\n",
       "    </tr>\n",
       "    <tr>\n",
       "      <th>1</th>\n",
       "      <td>Nokia</td>\n",
       "      <td>3.2</td>\n",
       "      <td>Steel</td>\n",
       "      <td>2 GB</td>\n",
       "      <td>16 GB</td>\n",
       "      <td>Yes</td>\n",
       "      <td>3.8</td>\n",
       "      <td>10199</td>\n",
       "      <td>10199</td>\n",
       "      <td>Nokia 3.2</td>\n",
       "      <td>0</td>\n",
       "      <td>0.000000</td>\n",
       "    </tr>\n",
       "    <tr>\n",
       "      <th>2</th>\n",
       "      <td>realme</td>\n",
       "      <td>C2</td>\n",
       "      <td>Diamond Black</td>\n",
       "      <td>2 GB</td>\n",
       "      <td>NaN</td>\n",
       "      <td>Yes</td>\n",
       "      <td>4.4</td>\n",
       "      <td>6999</td>\n",
       "      <td>7999</td>\n",
       "      <td>realme C2</td>\n",
       "      <td>1000</td>\n",
       "      <td>12.501563</td>\n",
       "    </tr>\n",
       "    <tr>\n",
       "      <th>3</th>\n",
       "      <td>Infinix</td>\n",
       "      <td>Note 5</td>\n",
       "      <td>Ice Blue</td>\n",
       "      <td>4 GB</td>\n",
       "      <td>64 GB</td>\n",
       "      <td>Yes</td>\n",
       "      <td>4.2</td>\n",
       "      <td>12999</td>\n",
       "      <td>12999</td>\n",
       "      <td>Infinix Note 5</td>\n",
       "      <td>0</td>\n",
       "      <td>0.000000</td>\n",
       "    </tr>\n",
       "    <tr>\n",
       "      <th>4</th>\n",
       "      <td>Apple</td>\n",
       "      <td>iPhone 11</td>\n",
       "      <td>Black</td>\n",
       "      <td>4GB</td>\n",
       "      <td>64 GB</td>\n",
       "      <td>Yes</td>\n",
       "      <td>4.6</td>\n",
       "      <td>49900</td>\n",
       "      <td>49900</td>\n",
       "      <td>Apple iPhone 11</td>\n",
       "      <td>0</td>\n",
       "      <td>0.000000</td>\n",
       "    </tr>\n",
       "  </tbody>\n",
       "</table>\n",
       "</div>"
      ],
      "text/plain": [
       "    Brands        Models         Colors Memory Storage Camera  Rating  \\\n",
       "0  SAMSUNG  GALAXY M31S    Mirage Black   8 GB  128 GB    Yes     4.3   \n",
       "1    Nokia           3.2          Steel   2 GB   16 GB    Yes     3.8   \n",
       "2   realme           C2   Diamond Black   2 GB     NaN    Yes     4.4   \n",
       "3  Infinix        Note 5       Ice Blue   4 GB   64 GB    Yes     4.2   \n",
       "4    Apple    iPhone 11           Black    4GB   64 GB    Yes     4.6   \n",
       "\n",
       "   Selling Price  Original Price                Mobile  Discount  \\\n",
       "0          19330           20999  SAMSUNG GALAXY M31S       1669   \n",
       "1          10199           10199             Nokia 3.2         0   \n",
       "2           6999            7999            realme C2       1000   \n",
       "3          12999           12999        Infinix Note 5         0   \n",
       "4          49900           49900      Apple iPhone 11          0   \n",
       "\n",
       "   discount percentage  \n",
       "0             7.947998  \n",
       "1             0.000000  \n",
       "2            12.501563  \n",
       "3             0.000000  \n",
       "4             0.000000  "
      ]
     },
     "execution_count": 2,
     "metadata": {},
     "output_type": "execute_result"
    }
   ],
   "source": [
    "sales_Df = pd.read_csv('Sales.csv')\n",
    "sales_Df.head()"
   ]
  },
  {
   "cell_type": "code",
   "execution_count": 3,
   "id": "093694bf",
   "metadata": {},
   "outputs": [
    {
     "name": "stdout",
     "output_type": "stream",
     "text": [
      "<class 'pandas.core.frame.DataFrame'>\n",
      "RangeIndex: 3114 entries, 0 to 3113\n",
      "Data columns (total 12 columns):\n",
      " #   Column               Non-Null Count  Dtype  \n",
      "---  ------               --------------  -----  \n",
      " 0   Brands               3114 non-null   object \n",
      " 1   Models               3114 non-null   object \n",
      " 2   Colors               3114 non-null   object \n",
      " 3   Memory               3071 non-null   object \n",
      " 4   Storage              3075 non-null   object \n",
      " 5   Camera               3114 non-null   object \n",
      " 6   Rating               2970 non-null   float64\n",
      " 7   Selling Price        3114 non-null   int64  \n",
      " 8   Original Price       3114 non-null   int64  \n",
      " 9   Mobile               3114 non-null   object \n",
      " 10  Discount             3114 non-null   int64  \n",
      " 11  discount percentage  3114 non-null   float64\n",
      "dtypes: float64(2), int64(3), object(7)\n",
      "memory usage: 292.1+ KB\n"
     ]
    }
   ],
   "source": [
    "sales_Df.info()"
   ]
  },
  {
   "cell_type": "markdown",
   "id": "4b0e810b",
   "metadata": {},
   "source": [
    "### Data Cleaning"
   ]
  },
  {
   "cell_type": "code",
   "execution_count": 4,
   "id": "8410e859",
   "metadata": {},
   "outputs": [],
   "source": [
    "# Making a copy of sales_Df for cleaning\n",
    "sales_Df_Copy = sales_Df.copy()"
   ]
  },
  {
   "cell_type": "code",
   "execution_count": 5,
   "id": "8c43b6d6",
   "metadata": {},
   "outputs": [
    {
     "name": "stdout",
     "output_type": "stream",
     "text": [
      "<class 'pandas.core.frame.DataFrame'>\n",
      "RangeIndex: 3114 entries, 0 to 3113\n",
      "Data columns (total 12 columns):\n",
      " #   Column               Non-Null Count  Dtype  \n",
      "---  ------               --------------  -----  \n",
      " 0   Brands               3114 non-null   object \n",
      " 1   Models               3114 non-null   object \n",
      " 2   Colors               3114 non-null   object \n",
      " 3   Memory               3071 non-null   object \n",
      " 4   Storage              3075 non-null   object \n",
      " 5   Camera               3114 non-null   object \n",
      " 6   Rating               2970 non-null   float64\n",
      " 7   Selling Price        3114 non-null   int64  \n",
      " 8   Original Price       3114 non-null   int64  \n",
      " 9   Mobile               3114 non-null   object \n",
      " 10  Discount             3114 non-null   int64  \n",
      " 11  discount percentage  3114 non-null   float64\n",
      "dtypes: float64(2), int64(3), object(7)\n",
      "memory usage: 292.1+ KB\n"
     ]
    }
   ],
   "source": [
    "sales_Df_Copy.info()"
   ]
  },
  {
   "cell_type": "markdown",
   "id": "c1ff6a04",
   "metadata": {},
   "source": [
    "#### Dropping records with 'NA' values"
   ]
  },
  {
   "cell_type": "code",
   "execution_count": 6,
   "id": "753ca6f5",
   "metadata": {},
   "outputs": [
    {
     "name": "stdout",
     "output_type": "stream",
     "text": [
      "<class 'pandas.core.frame.DataFrame'>\n",
      "Index: 2897 entries, 0 to 3113\n",
      "Data columns (total 12 columns):\n",
      " #   Column               Non-Null Count  Dtype  \n",
      "---  ------               --------------  -----  \n",
      " 0   Brands               2897 non-null   object \n",
      " 1   Models               2897 non-null   object \n",
      " 2   Colors               2897 non-null   object \n",
      " 3   Memory               2897 non-null   object \n",
      " 4   Storage              2897 non-null   object \n",
      " 5   Camera               2897 non-null   object \n",
      " 6   Rating               2897 non-null   float64\n",
      " 7   Selling Price        2897 non-null   int64  \n",
      " 8   Original Price       2897 non-null   int64  \n",
      " 9   Mobile               2897 non-null   object \n",
      " 10  Discount             2897 non-null   int64  \n",
      " 11  discount percentage  2897 non-null   float64\n",
      "dtypes: float64(2), int64(3), object(7)\n",
      "memory usage: 294.2+ KB\n"
     ]
    }
   ],
   "source": [
    "sales_Df_Copy = sales_Df_Copy.dropna(subset=['Memory','Storage','Rating'])\n",
    "sales_Df_Copy.info()"
   ]
  },
  {
   "cell_type": "markdown",
   "id": "da16b188",
   "metadata": {},
   "source": [
    "#### Dropping Columns `Models`, `Mobile` and `Camera`"
   ]
  },
  {
   "cell_type": "code",
   "execution_count": 7,
   "id": "ce903e6f",
   "metadata": {},
   "outputs": [
    {
     "name": "stdout",
     "output_type": "stream",
     "text": [
      "<class 'pandas.core.frame.DataFrame'>\n",
      "Index: 2897 entries, 0 to 3113\n",
      "Data columns (total 9 columns):\n",
      " #   Column               Non-Null Count  Dtype  \n",
      "---  ------               --------------  -----  \n",
      " 0   Brands               2897 non-null   object \n",
      " 1   Colors               2897 non-null   object \n",
      " 2   Memory               2897 non-null   object \n",
      " 3   Storage              2897 non-null   object \n",
      " 4   Rating               2897 non-null   float64\n",
      " 5   Selling Price        2897 non-null   int64  \n",
      " 6   Original Price       2897 non-null   int64  \n",
      " 7   Discount             2897 non-null   int64  \n",
      " 8   discount percentage  2897 non-null   float64\n",
      "dtypes: float64(2), int64(3), object(4)\n",
      "memory usage: 226.3+ KB\n"
     ]
    }
   ],
   "source": [
    "sales_Df_Copy = sales_Df_Copy.drop(['Models', 'Mobile', 'Camera'], axis=1)\n",
    "sales_Df_Copy.info()"
   ]
  },
  {
   "cell_type": "markdown",
   "id": "819d951a",
   "metadata": {},
   "source": [
    "#### Standardising naming conventions for columns\n",
    "* Converting all columns to `UPPERCASE FORMAT`\n",
    "* Replacing all whitespaces in columns with `_` "
   ]
  },
  {
   "cell_type": "code",
   "execution_count": 8,
   "id": "35f39e06",
   "metadata": {},
   "outputs": [
    {
     "name": "stdout",
     "output_type": "stream",
     "text": [
      "<class 'pandas.core.frame.DataFrame'>\n",
      "Index: 2897 entries, 0 to 3113\n",
      "Data columns (total 9 columns):\n",
      " #   Column               Non-Null Count  Dtype  \n",
      "---  ------               --------------  -----  \n",
      " 0   BRANDS               2897 non-null   object \n",
      " 1   COLORS               2897 non-null   object \n",
      " 2   MEMORY               2897 non-null   object \n",
      " 3   STORAGE              2897 non-null   object \n",
      " 4   RATING               2897 non-null   float64\n",
      " 5   SELLING_PRICE        2897 non-null   int64  \n",
      " 6   ORIGINAL_PRICE       2897 non-null   int64  \n",
      " 7   DISCOUNT             2897 non-null   int64  \n",
      " 8   DISCOUNT_PERCENTAGE  2897 non-null   float64\n",
      "dtypes: float64(2), int64(3), object(4)\n",
      "memory usage: 226.3+ KB\n"
     ]
    }
   ],
   "source": [
    "sales_Df_Copy.columns = sales_Df_Copy.columns.str.upper()\n",
    "sales_Df_Copy.columns = sales_Df_Copy.columns.str.replace(\" \",\"_\")\n",
    "sales_Df_Copy.info()"
   ]
  },
  {
   "cell_type": "markdown",
   "id": "e38e11c7",
   "metadata": {},
   "source": [
    "#### Standardising naming conventions for individual records\n",
    "* Converting `BRANDS` and `COLORS` to `STRING FORMAT`\n",
    "* Converting `BRANDS` and `COLORS` to `UPPERCASE FORMAT` for Uniformity"
   ]
  },
  {
   "cell_type": "code",
   "execution_count": 9,
   "id": "f20db6d3",
   "metadata": {},
   "outputs": [
    {
     "data": {
      "text/html": [
       "<div>\n",
       "<style scoped>\n",
       "    .dataframe tbody tr th:only-of-type {\n",
       "        vertical-align: middle;\n",
       "    }\n",
       "\n",
       "    .dataframe tbody tr th {\n",
       "        vertical-align: top;\n",
       "    }\n",
       "\n",
       "    .dataframe thead th {\n",
       "        text-align: right;\n",
       "    }\n",
       "</style>\n",
       "<table border=\"1\" class=\"dataframe\">\n",
       "  <thead>\n",
       "    <tr style=\"text-align: right;\">\n",
       "      <th></th>\n",
       "      <th>BRANDS</th>\n",
       "      <th>COLORS</th>\n",
       "      <th>MEMORY</th>\n",
       "      <th>STORAGE</th>\n",
       "      <th>RATING</th>\n",
       "      <th>SELLING_PRICE</th>\n",
       "      <th>ORIGINAL_PRICE</th>\n",
       "      <th>DISCOUNT</th>\n",
       "      <th>DISCOUNT_PERCENTAGE</th>\n",
       "    </tr>\n",
       "  </thead>\n",
       "  <tbody>\n",
       "    <tr>\n",
       "      <th>0</th>\n",
       "      <td>SAMSUNG</td>\n",
       "      <td>MIRAGE BLACK</td>\n",
       "      <td>8 GB</td>\n",
       "      <td>128 GB</td>\n",
       "      <td>4.3</td>\n",
       "      <td>19330</td>\n",
       "      <td>20999</td>\n",
       "      <td>1669</td>\n",
       "      <td>7.947998</td>\n",
       "    </tr>\n",
       "    <tr>\n",
       "      <th>1</th>\n",
       "      <td>NOKIA</td>\n",
       "      <td>STEEL</td>\n",
       "      <td>2 GB</td>\n",
       "      <td>16 GB</td>\n",
       "      <td>3.8</td>\n",
       "      <td>10199</td>\n",
       "      <td>10199</td>\n",
       "      <td>0</td>\n",
       "      <td>0.000000</td>\n",
       "    </tr>\n",
       "    <tr>\n",
       "      <th>3</th>\n",
       "      <td>INFINIX</td>\n",
       "      <td>ICE BLUE</td>\n",
       "      <td>4 GB</td>\n",
       "      <td>64 GB</td>\n",
       "      <td>4.2</td>\n",
       "      <td>12999</td>\n",
       "      <td>12999</td>\n",
       "      <td>0</td>\n",
       "      <td>0.000000</td>\n",
       "    </tr>\n",
       "    <tr>\n",
       "      <th>4</th>\n",
       "      <td>APPLE</td>\n",
       "      <td>BLACK</td>\n",
       "      <td>4GB</td>\n",
       "      <td>64 GB</td>\n",
       "      <td>4.6</td>\n",
       "      <td>49900</td>\n",
       "      <td>49900</td>\n",
       "      <td>0</td>\n",
       "      <td>0.000000</td>\n",
       "    </tr>\n",
       "    <tr>\n",
       "      <th>5</th>\n",
       "      <td>GIONEE</td>\n",
       "      <td>BLACK</td>\n",
       "      <td>8 MB</td>\n",
       "      <td>16 MB</td>\n",
       "      <td>4.0</td>\n",
       "      <td>2199</td>\n",
       "      <td>2199</td>\n",
       "      <td>0</td>\n",
       "      <td>0.000000</td>\n",
       "    </tr>\n",
       "  </tbody>\n",
       "</table>\n",
       "</div>"
      ],
      "text/plain": [
       "    BRANDS        COLORS MEMORY STORAGE  RATING  SELLING_PRICE  \\\n",
       "0  SAMSUNG  MIRAGE BLACK   8 GB  128 GB     4.3          19330   \n",
       "1    NOKIA         STEEL   2 GB   16 GB     3.8          10199   \n",
       "3  INFINIX      ICE BLUE   4 GB   64 GB     4.2          12999   \n",
       "4    APPLE         BLACK    4GB   64 GB     4.6          49900   \n",
       "5   GIONEE         BLACK   8 MB   16 MB     4.0           2199   \n",
       "\n",
       "   ORIGINAL_PRICE  DISCOUNT  DISCOUNT_PERCENTAGE  \n",
       "0           20999      1669             7.947998  \n",
       "1           10199         0             0.000000  \n",
       "3           12999         0             0.000000  \n",
       "4           49900         0             0.000000  \n",
       "5            2199         0             0.000000  "
      ]
     },
     "execution_count": 9,
     "metadata": {},
     "output_type": "execute_result"
    }
   ],
   "source": [
    "sales_Df_Copy[['BRANDS', 'COLORS']] = sales_Df_Copy[['BRANDS', 'COLORS']].astype(\"string\")\n",
    "sales_Df_Copy['BRANDS'] = sales_Df_Copy['BRANDS'].str.upper()\n",
    "sales_Df_Copy['COLORS'] = sales_Df_Copy['COLORS'].str.upper()\n",
    "sales_Df_Copy.head()"
   ]
  },
  {
   "cell_type": "code",
   "execution_count": 10,
   "id": "2ba63f92",
   "metadata": {},
   "outputs": [
    {
     "data": {
      "text/html": [
       "<div>\n",
       "<style scoped>\n",
       "    .dataframe tbody tr th:only-of-type {\n",
       "        vertical-align: middle;\n",
       "    }\n",
       "\n",
       "    .dataframe tbody tr th {\n",
       "        vertical-align: top;\n",
       "    }\n",
       "\n",
       "    .dataframe thead th {\n",
       "        text-align: right;\n",
       "    }\n",
       "</style>\n",
       "<table border=\"1\" class=\"dataframe\">\n",
       "  <thead>\n",
       "    <tr style=\"text-align: right;\">\n",
       "      <th></th>\n",
       "      <th>BRANDS</th>\n",
       "      <th>COLORS</th>\n",
       "      <th>MEMORY</th>\n",
       "      <th>STORAGE</th>\n",
       "      <th>RATING</th>\n",
       "      <th>SELLING_PRICE</th>\n",
       "      <th>ORIGINAL_PRICE</th>\n",
       "      <th>DISCOUNT</th>\n",
       "      <th>DISCOUNT_PERCENTAGE</th>\n",
       "    </tr>\n",
       "  </thead>\n",
       "  <tbody>\n",
       "    <tr>\n",
       "      <th>0</th>\n",
       "      <td>SAMSUNG</td>\n",
       "      <td>MIRAGE BLACK</td>\n",
       "      <td>8 GB</td>\n",
       "      <td>128 GB</td>\n",
       "      <td>4.3</td>\n",
       "      <td>19330</td>\n",
       "      <td>20999</td>\n",
       "      <td>1669</td>\n",
       "      <td>7.947998</td>\n",
       "    </tr>\n",
       "    <tr>\n",
       "      <th>1</th>\n",
       "      <td>NOKIA</td>\n",
       "      <td>STEEL</td>\n",
       "      <td>2 GB</td>\n",
       "      <td>16 GB</td>\n",
       "      <td>3.8</td>\n",
       "      <td>10199</td>\n",
       "      <td>10199</td>\n",
       "      <td>0</td>\n",
       "      <td>0.000000</td>\n",
       "    </tr>\n",
       "    <tr>\n",
       "      <th>3</th>\n",
       "      <td>INFINIX</td>\n",
       "      <td>ICE BLUE</td>\n",
       "      <td>4 GB</td>\n",
       "      <td>64 GB</td>\n",
       "      <td>4.2</td>\n",
       "      <td>12999</td>\n",
       "      <td>12999</td>\n",
       "      <td>0</td>\n",
       "      <td>0.000000</td>\n",
       "    </tr>\n",
       "    <tr>\n",
       "      <th>4</th>\n",
       "      <td>APPLE</td>\n",
       "      <td>BLACK</td>\n",
       "      <td>4GB</td>\n",
       "      <td>64 GB</td>\n",
       "      <td>4.6</td>\n",
       "      <td>49900</td>\n",
       "      <td>49900</td>\n",
       "      <td>0</td>\n",
       "      <td>0.000000</td>\n",
       "    </tr>\n",
       "    <tr>\n",
       "      <th>5</th>\n",
       "      <td>GIONEE</td>\n",
       "      <td>BLACK</td>\n",
       "      <td>8 MB</td>\n",
       "      <td>16 MB</td>\n",
       "      <td>4.0</td>\n",
       "      <td>2199</td>\n",
       "      <td>2199</td>\n",
       "      <td>0</td>\n",
       "      <td>0.000000</td>\n",
       "    </tr>\n",
       "  </tbody>\n",
       "</table>\n",
       "</div>"
      ],
      "text/plain": [
       "    BRANDS        COLORS MEMORY STORAGE  RATING  SELLING_PRICE  \\\n",
       "0  SAMSUNG  MIRAGE BLACK   8 GB  128 GB     4.3          19330   \n",
       "1    NOKIA         STEEL   2 GB   16 GB     3.8          10199   \n",
       "3  INFINIX      ICE BLUE   4 GB   64 GB     4.2          12999   \n",
       "4    APPLE         BLACK    4GB   64 GB     4.6          49900   \n",
       "5   GIONEE         BLACK   8 MB   16 MB     4.0           2199   \n",
       "\n",
       "   ORIGINAL_PRICE  DISCOUNT  DISCOUNT_PERCENTAGE  \n",
       "0           20999      1669             7.947998  \n",
       "1           10199         0             0.000000  \n",
       "3           12999         0             0.000000  \n",
       "4           49900         0             0.000000  \n",
       "5            2199         0             0.000000  "
      ]
     },
     "execution_count": 10,
     "metadata": {},
     "output_type": "execute_result"
    }
   ],
   "source": [
    "sales_Df_Copy.head()"
   ]
  },
  {
   "cell_type": "code",
   "execution_count": 11,
   "id": "31cc2978",
   "metadata": {},
   "outputs": [
    {
     "name": "stdout",
     "output_type": "stream",
     "text": [
      "<class 'pandas.core.frame.DataFrame'>\n",
      "Index: 2897 entries, 0 to 3113\n",
      "Data columns (total 9 columns):\n",
      " #   Column               Non-Null Count  Dtype  \n",
      "---  ------               --------------  -----  \n",
      " 0   BRANDS               2897 non-null   string \n",
      " 1   COLORS               2897 non-null   string \n",
      " 2   MEMORY               2897 non-null   object \n",
      " 3   STORAGE              2897 non-null   object \n",
      " 4   RATING               2897 non-null   float64\n",
      " 5   SELLING_PRICE        2897 non-null   int64  \n",
      " 6   ORIGINAL_PRICE       2897 non-null   int64  \n",
      " 7   DISCOUNT             2897 non-null   int64  \n",
      " 8   DISCOUNT_PERCENTAGE  2897 non-null   float64\n",
      "dtypes: float64(2), int64(3), object(2), string(2)\n",
      "memory usage: 226.3+ KB\n"
     ]
    }
   ],
   "source": [
    "sales_Df_Copy.info()"
   ]
  },
  {
   "cell_type": "markdown",
   "id": "2310e91f",
   "metadata": {},
   "source": [
    "#### Further Cleaning on 'MEMORY'\n",
    "* Converting `MEMORY` to `STRING FORMAT`\n",
    "* Identify Unique values of `MEMORY`\n",
    "* If duplicate naming conventions exist, merge them together\n",
    "* Replace ' ' with '_'\n",
    "* Converting `MEMORY` to `CATEGORY FORMAT`"
   ]
  },
  {
   "cell_type": "code",
   "execution_count": 12,
   "id": "e86f88c1",
   "metadata": {},
   "outputs": [
    {
     "name": "stdout",
     "output_type": "stream",
     "text": [
      "<class 'pandas.core.frame.DataFrame'>\n",
      "Index: 2897 entries, 0 to 3113\n",
      "Data columns (total 9 columns):\n",
      " #   Column               Non-Null Count  Dtype  \n",
      "---  ------               --------------  -----  \n",
      " 0   BRANDS               2897 non-null   string \n",
      " 1   COLORS               2897 non-null   string \n",
      " 2   MEMORY               2897 non-null   string \n",
      " 3   STORAGE              2897 non-null   object \n",
      " 4   RATING               2897 non-null   float64\n",
      " 5   SELLING_PRICE        2897 non-null   int64  \n",
      " 6   ORIGINAL_PRICE       2897 non-null   int64  \n",
      " 7   DISCOUNT             2897 non-null   int64  \n",
      " 8   DISCOUNT_PERCENTAGE  2897 non-null   float64\n",
      "dtypes: float64(2), int64(3), object(1), string(3)\n",
      "memory usage: 226.3+ KB\n"
     ]
    }
   ],
   "source": [
    "# Converting 'MEMORY' to 'string' Format\n",
    "sales_Df_Copy[['MEMORY']] = sales_Df_Copy[['MEMORY']].astype(\"string\")\n",
    "sales_Df_Copy.info()"
   ]
  },
  {
   "cell_type": "code",
   "execution_count": 13,
   "id": "381c73d7",
   "metadata": {},
   "outputs": [
    {
     "name": "stdout",
     "output_type": "stream",
     "text": [
      "Number of UNIQUE types of MEMORY : 24\n",
      "MEMORY\n",
      "4 GB      711\n",
      "3 GB      479\n",
      "6 GB      444\n",
      "2 GB      376\n",
      "8 GB      326\n",
      "1 GB      193\n",
      "4GB       129\n",
      "12 GB      58\n",
      "512 MB     46\n",
      "4 MB       37\n",
      "1.5 GB     29\n",
      "64 MB      15\n",
      "32 MB      14\n",
      "16 MB      12\n",
      "8 MB       10\n",
      "768 MB      6\n",
      "10 MB       3\n",
      "2 MB        2\n",
      "46 MB       2\n",
      "128 MB      1\n",
      "153 MB      1\n",
      "30 MB       1\n",
      "100 MB      1\n",
      "16 GB       1\n",
      "Name: count, dtype: Int64\n"
     ]
    }
   ],
   "source": [
    "# Identify UNIQUE values of 'MEMORY'\n",
    "print(\"Number of UNIQUE types of MEMORY :\", len(sales_Df_Copy[\"MEMORY\"].unique()))\n",
    "print(sales_Df_Copy[\"MEMORY\"].value_counts())"
   ]
  },
  {
   "cell_type": "code",
   "execution_count": 14,
   "id": "74b6f60c",
   "metadata": {},
   "outputs": [
    {
     "name": "stdout",
     "output_type": "stream",
     "text": [
      "Number of UNIQUE types of MEMORY : 23\n",
      "MEMORY\n",
      "4 GB      840\n",
      "3 GB      479\n",
      "6 GB      444\n",
      "2 GB      376\n",
      "8 GB      326\n",
      "1 GB      193\n",
      "12 GB      58\n",
      "512 MB     46\n",
      "4 MB       37\n",
      "1.5 GB     29\n",
      "64 MB      15\n",
      "32 MB      14\n",
      "16 MB      12\n",
      "8 MB       10\n",
      "768 MB      6\n",
      "10 MB       3\n",
      "2 MB        2\n",
      "46 MB       2\n",
      "128 MB      1\n",
      "153 MB      1\n",
      "30 MB       1\n",
      "100 MB      1\n",
      "16 GB       1\n",
      "Name: count, dtype: Int64\n"
     ]
    }
   ],
   "source": [
    "# If duplicate naming conventions exist, merge them together\n",
    "sales_Df_Copy['MEMORY'] = sales_Df_Copy['MEMORY'].str.replace('4GB','4 GB')\n",
    "print(\"Number of UNIQUE types of MEMORY :\", len(sales_Df_Copy[\"MEMORY\"].unique()))\n",
    "print(sales_Df_Copy[\"MEMORY\"].value_counts())"
   ]
  },
  {
   "cell_type": "code",
   "execution_count": 15,
   "id": "7ee668bb",
   "metadata": {},
   "outputs": [
    {
     "name": "stdout",
     "output_type": "stream",
     "text": [
      "Number of UNIQUE types of MEMORY : 23\n",
      "MEMORY\n",
      "4_GB      840\n",
      "3_GB      479\n",
      "6_GB      444\n",
      "2_GB      376\n",
      "8_GB      326\n",
      "1_GB      193\n",
      "12_GB      58\n",
      "512_MB     46\n",
      "4_MB       37\n",
      "1.5_GB     29\n",
      "64_MB      15\n",
      "32_MB      14\n",
      "16_MB      12\n",
      "8_MB       10\n",
      "768_MB      6\n",
      "10_MB       3\n",
      "2_MB        2\n",
      "46_MB       2\n",
      "128_MB      1\n",
      "153_MB      1\n",
      "30_MB       1\n",
      "100_MB      1\n",
      "16_GB       1\n",
      "Name: count, dtype: Int64\n"
     ]
    }
   ],
   "source": [
    "sales_Df_Copy['MEMORY'] = sales_Df_Copy['MEMORY'].str.replace(' ','_')\n",
    "print(\"Number of UNIQUE types of MEMORY :\", len(sales_Df_Copy[\"MEMORY\"].unique()))\n",
    "print(sales_Df_Copy[\"MEMORY\"].value_counts())"
   ]
  },
  {
   "cell_type": "code",
   "execution_count": 16,
   "id": "505f8ed6",
   "metadata": {},
   "outputs": [
    {
     "name": "stdout",
     "output_type": "stream",
     "text": [
      "Number of types of MEMORY : 10\n",
      "MEMORY\n",
      "4_GB             840\n",
      "3_GB             479\n",
      "6_GB             444\n",
      "2_GB             376\n",
      "8_GB             326\n",
      "1_GB             193\n",
      "LESS_THAN_1GB    151\n",
      "12_GB             58\n",
      "1.5_GB            29\n",
      "16_GB              1\n",
      "Name: count, dtype: Int64\n"
     ]
    }
   ],
   "source": [
    "# Those records with 'MEMORY' < 1GB classfied under 'LESS THAN 1GB'\n",
    "sales_Df_Copy.loc[sales_Df_Copy['MEMORY'].str.contains(\"MB\"), 'MEMORY'] = 'LESS_THAN_1GB'\n",
    "print(\"Number of types of MEMORY :\", len(sales_Df_Copy[\"MEMORY\"].unique()))\n",
    "print(sales_Df_Copy[\"MEMORY\"].value_counts())"
   ]
  },
  {
   "cell_type": "code",
   "execution_count": 17,
   "id": "256e8dfe",
   "metadata": {},
   "outputs": [
    {
     "name": "stdout",
     "output_type": "stream",
     "text": [
      "<class 'pandas.core.frame.DataFrame'>\n",
      "Index: 2897 entries, 0 to 3113\n",
      "Data columns (total 9 columns):\n",
      " #   Column               Non-Null Count  Dtype   \n",
      "---  ------               --------------  -----   \n",
      " 0   BRANDS               2897 non-null   string  \n",
      " 1   COLORS               2897 non-null   string  \n",
      " 2   MEMORY               2897 non-null   category\n",
      " 3   STORAGE              2897 non-null   object  \n",
      " 4   RATING               2897 non-null   float64 \n",
      " 5   SELLING_PRICE        2897 non-null   int64   \n",
      " 6   ORIGINAL_PRICE       2897 non-null   int64   \n",
      " 7   DISCOUNT             2897 non-null   int64   \n",
      " 8   DISCOUNT_PERCENTAGE  2897 non-null   float64 \n",
      "dtypes: category(1), float64(2), int64(3), object(1), string(2)\n",
      "memory usage: 206.9+ KB\n"
     ]
    }
   ],
   "source": [
    "# Converting `MEMORY` to `CATEGORY FORMAT`\n",
    "sales_Df_Copy[['MEMORY']] = sales_Df_Copy[['MEMORY']].astype('category')\n",
    "sales_Df_Copy.info()"
   ]
  },
  {
   "cell_type": "markdown",
   "id": "4f92b340",
   "metadata": {},
   "source": [
    "#### Further Cleaning on 'STORAGE'\n",
    "* Converting `STORAGE` to `STRING FORMAT`\n",
    "* Standardise all records of `STORAGE` to be UPPERCASE\n",
    "* Identify Unique values of `STORAGE`\n",
    "* Those records with 'STORAGE' < 1GB classfied under 'LESS THAN 1GB'\n",
    "* Those records with 'STORAGE' where COUNT < 10, classify them as under 'OTHERS'\n",
    "* Converting `STORAGE` to `CATEGORY FORMAT`"
   ]
  },
  {
   "cell_type": "code",
   "execution_count": 18,
   "id": "b9e4c93c",
   "metadata": {},
   "outputs": [
    {
     "name": "stdout",
     "output_type": "stream",
     "text": [
      "<class 'pandas.core.frame.DataFrame'>\n",
      "Index: 2897 entries, 0 to 3113\n",
      "Data columns (total 9 columns):\n",
      " #   Column               Non-Null Count  Dtype   \n",
      "---  ------               --------------  -----   \n",
      " 0   BRANDS               2897 non-null   string  \n",
      " 1   COLORS               2897 non-null   string  \n",
      " 2   MEMORY               2897 non-null   category\n",
      " 3   STORAGE              2897 non-null   string  \n",
      " 4   RATING               2897 non-null   float64 \n",
      " 5   SELLING_PRICE        2897 non-null   int64   \n",
      " 6   ORIGINAL_PRICE       2897 non-null   int64   \n",
      " 7   DISCOUNT             2897 non-null   int64   \n",
      " 8   DISCOUNT_PERCENTAGE  2897 non-null   float64 \n",
      "dtypes: category(1), float64(2), int64(3), string(3)\n",
      "memory usage: 206.9 KB\n"
     ]
    }
   ],
   "source": [
    "# Converting `STORAGE` to `STRING FORMAT`\n",
    "sales_Df_Copy[['STORAGE']] = sales_Df_Copy[['STORAGE']].astype(\"string\")\n",
    "sales_Df_Copy.info()"
   ]
  },
  {
   "cell_type": "code",
   "execution_count": 19,
   "id": "5594b814",
   "metadata": {},
   "outputs": [],
   "source": [
    "# Standardise all records of `STORAGE` to be UPPERCASE\n",
    "sales_Df_Copy['STORAGE'] = sales_Df_Copy['STORAGE'].str.upper()"
   ]
  },
  {
   "cell_type": "code",
   "execution_count": 20,
   "id": "e523b9fa",
   "metadata": {},
   "outputs": [
    {
     "name": "stdout",
     "output_type": "stream",
     "text": [
      "Number of UNIQUE types of STORAGE : 25\n",
      "STORAGE\n",
      "64 GB                    757\n",
      "128 GB                   720\n",
      "32 GB                    545\n",
      "16 GB                    312\n",
      "256 GB                   216\n",
      "8 GB                     133\n",
      "4 GB                      56\n",
      "512 GB                    41\n",
      "4 MB                      27\n",
      "2 MB                      26\n",
      "128 MB                    12\n",
      "16 MB                     10\n",
      "EXPANDABLE UPTO 32 GB     10\n",
      "EXPANDABLE UPTO 16 GB      7\n",
      "1 TB                       6\n",
      "64 MB                      3\n",
      "129 GB                     3\n",
      "512 MB                     2\n",
      "256 MB                     2\n",
      "130 GB                     2\n",
      "8 MB                       2\n",
      "100 MB                     2\n",
      "153 MB                     1\n",
      "10 MB                      1\n",
      "140 MB                     1\n",
      "Name: count, dtype: Int64\n"
     ]
    }
   ],
   "source": [
    "# * Identify Unique values of `STORAGE`\n",
    "print(\"Number of UNIQUE types of STORAGE :\", len(sales_Df_Copy[\"STORAGE\"].unique()))\n",
    "print(sales_Df_Copy[\"STORAGE\"].value_counts())"
   ]
  },
  {
   "cell_type": "code",
   "execution_count": 21,
   "id": "280e8743",
   "metadata": {},
   "outputs": [
    {
     "name": "stdout",
     "output_type": "stream",
     "text": [
      "Number of UNIQUE types of STORAGE : 25\n",
      "STORAGE\n",
      "64_GB                    757\n",
      "128_GB                   720\n",
      "32_GB                    545\n",
      "16_GB                    312\n",
      "256_GB                   216\n",
      "8_GB                     133\n",
      "4_GB                      56\n",
      "512_GB                    41\n",
      "4_MB                      27\n",
      "2_MB                      26\n",
      "128_MB                    12\n",
      "16_MB                     10\n",
      "EXPANDABLE_UPTO_32_GB     10\n",
      "EXPANDABLE_UPTO_16_GB      7\n",
      "1_TB                       6\n",
      "64_MB                      3\n",
      "129_GB                     3\n",
      "512_MB                     2\n",
      "256_MB                     2\n",
      "130_GB                     2\n",
      "8_MB                       2\n",
      "100_MB                     2\n",
      "153_MB                     1\n",
      "10_MB                      1\n",
      "140_MB                     1\n",
      "Name: count, dtype: Int64\n"
     ]
    }
   ],
   "source": [
    "# Replacing ' ' with '_'\n",
    "sales_Df_Copy['STORAGE'] = sales_Df_Copy['STORAGE'].str.replace(' ','_')\n",
    "print(\"Number of UNIQUE types of STORAGE :\", len(sales_Df_Copy[\"STORAGE\"].unique()))\n",
    "print(sales_Df_Copy[\"STORAGE\"].value_counts())"
   ]
  },
  {
   "cell_type": "code",
   "execution_count": 22,
   "id": "d9d7378f",
   "metadata": {},
   "outputs": [
    {
     "name": "stdout",
     "output_type": "stream",
     "text": [
      "Number of UNIQUE types of STORAGE : 24\n",
      "STORAGE\n",
      "64_GB         757\n",
      "128_GB        720\n",
      "32_GB         545\n",
      "16_GB         312\n",
      "256_GB        216\n",
      "8_GB          133\n",
      "4_GB           56\n",
      "512_GB         41\n",
      "4_MB           27\n",
      "2_MB           26\n",
      "EXPANDABLE     17\n",
      "128_MB         12\n",
      "16_MB          10\n",
      "1_TB            6\n",
      "64_MB           3\n",
      "129_GB          3\n",
      "512_MB          2\n",
      "256_MB          2\n",
      "130_GB          2\n",
      "8_MB            2\n",
      "100_MB          2\n",
      "153_MB          1\n",
      "10_MB           1\n",
      "140_MB          1\n",
      "Name: count, dtype: Int64\n"
     ]
    }
   ],
   "source": [
    "# Classifying records involving Expansion of Storage together\n",
    "sales_Df_Copy.loc[sales_Df_Copy['STORAGE'].str.contains(\"EXPANDABLE\"), 'STORAGE'] = 'EXPANDABLE'\n",
    "print(\"Number of UNIQUE types of STORAGE :\", len(sales_Df_Copy[\"STORAGE\"].unique()))\n",
    "print(sales_Df_Copy[\"STORAGE\"].value_counts())\n"
   ]
  },
  {
   "cell_type": "code",
   "execution_count": 23,
   "id": "9016f0d3",
   "metadata": {},
   "outputs": [
    {
     "name": "stdout",
     "output_type": "stream",
     "text": [
      "Number of types of STORAGE : 13\n",
      "STORAGE\n",
      "64_GB            757\n",
      "128_GB           720\n",
      "32_GB            545\n",
      "16_GB            312\n",
      "256_GB           216\n",
      "8_GB             133\n",
      "LESS_THAN_1GB     89\n",
      "4_GB              56\n",
      "512_GB            41\n",
      "EXPANDABLE        17\n",
      "1_TB               6\n",
      "129_GB             3\n",
      "130_GB             2\n",
      "Name: count, dtype: Int64\n"
     ]
    }
   ],
   "source": [
    "# Those records with 'STORAGE' < 1GB classfied under 'LESS THAN 1GB'\n",
    "sales_Df_Copy.loc[sales_Df_Copy['STORAGE'].str.contains(\"MB\"), 'STORAGE'] = 'LESS_THAN_1GB'\n",
    "print(\"Number of types of STORAGE :\", len(sales_Df_Copy[\"STORAGE\"].unique()))\n",
    "print(sales_Df_Copy[\"STORAGE\"].value_counts())"
   ]
  },
  {
   "cell_type": "code",
   "execution_count": 24,
   "id": "8292bd7a",
   "metadata": {},
   "outputs": [
    {
     "name": "stdout",
     "output_type": "stream",
     "text": [
      "Number of types of STORAGE : 11\n",
      "STORAGE\n",
      "64_GB            757\n",
      "128_GB           720\n",
      "32_GB            545\n",
      "16_GB            312\n",
      "256_GB           216\n",
      "8_GB             133\n",
      "LESS_THAN_1GB     89\n",
      "4_GB              56\n",
      "512_GB            41\n",
      "EXPANDABLE        17\n",
      "OTHERS            11\n",
      "Name: count, dtype: Int64\n"
     ]
    }
   ],
   "source": [
    "# Those records with 'STORAGE' where COUNT < 10, classify them as under 'OTHERS'\n",
    "sales_Df_Copy.loc[sales_Df_Copy[\"STORAGE\"].value_counts()[sales_Df_Copy[\"STORAGE\"]].values <= 10, 'STORAGE'] = 'OTHERS'\n",
    "print(\"Number of types of STORAGE :\", len(sales_Df_Copy[\"STORAGE\"].unique()))\n",
    "print(sales_Df_Copy[\"STORAGE\"].value_counts())"
   ]
  },
  {
   "cell_type": "code",
   "execution_count": 25,
   "id": "3f9b5729",
   "metadata": {},
   "outputs": [
    {
     "name": "stdout",
     "output_type": "stream",
     "text": [
      "<class 'pandas.core.frame.DataFrame'>\n",
      "Index: 2897 entries, 0 to 3113\n",
      "Data columns (total 9 columns):\n",
      " #   Column               Non-Null Count  Dtype   \n",
      "---  ------               --------------  -----   \n",
      " 0   BRANDS               2897 non-null   string  \n",
      " 1   COLORS               2897 non-null   string  \n",
      " 2   MEMORY               2897 non-null   category\n",
      " 3   STORAGE              2897 non-null   category\n",
      " 4   RATING               2897 non-null   float64 \n",
      " 5   SELLING_PRICE        2897 non-null   int64   \n",
      " 6   ORIGINAL_PRICE       2897 non-null   int64   \n",
      " 7   DISCOUNT             2897 non-null   int64   \n",
      " 8   DISCOUNT_PERCENTAGE  2897 non-null   float64 \n",
      "dtypes: category(2), float64(2), int64(3), string(2)\n",
      "memory usage: 187.5 KB\n"
     ]
    }
   ],
   "source": [
    "# Converting `STORAGE` to `CATEGORY FORMAT`\n",
    "sales_Df_Copy[['STORAGE']] = sales_Df_Copy[['STORAGE']].astype('category')\n",
    "sales_Df_Copy.info()"
   ]
  },
  {
   "cell_type": "markdown",
   "id": "b957132e",
   "metadata": {},
   "source": [
    "#### Further cleaning on 'COLORS'\n",
    "* Identify Unique values of `COLORS`\n",
    "* Characterise colors based on substrings of colors\n",
    "* Those records with 'COLORS' not in \"labelled_colors\" list, classify them as under 'OTHERS'\n",
    "* Converting `COLORS` to `CATEGORY FORMAT`"
   ]
  },
  {
   "cell_type": "code",
   "execution_count": 26,
   "id": "685c0b43",
   "metadata": {},
   "outputs": [
    {
     "name": "stdout",
     "output_type": "stream",
     "text": [
      "Number of COLORS : 603\n"
     ]
    },
    {
     "data": {
      "text/plain": [
       "COLORS\n",
       "BLACK                446\n",
       "GOLD                 184\n",
       "WHITE                153\n",
       "BLUE                 134\n",
       "SILVER                90\n",
       "                    ... \n",
       "SUNSET BLUE            1\n",
       "BOLD RED               1\n",
       "BLOSSOM PINK           1\n",
       "PACIFIC SUNRISE        1\n",
       "SAPPHIRE GRADIENT      1\n",
       "Name: count, Length: 603, dtype: Int64"
      ]
     },
     "execution_count": 26,
     "metadata": {},
     "output_type": "execute_result"
    }
   ],
   "source": [
    "# Identify Unique values of `COLORS`\n",
    "print(\"Number of COLORS :\", len(sales_Df_Copy[\"COLORS\"].unique()))\n",
    "sales_Df_Copy[\"COLORS\"].value_counts()"
   ]
  },
  {
   "cell_type": "code",
   "execution_count": 27,
   "id": "5077efa6",
   "metadata": {},
   "outputs": [
    {
     "name": "stdout",
     "output_type": "stream",
     "text": [
      "Number of COLORS : 60\n"
     ]
    },
    {
     "data": {
      "text/plain": [
       "COLORS\n",
       "BLACK                 996\n",
       "BLUE                  533\n",
       "WHITE                 318\n",
       "GOLD                  282\n",
       "SILVER                174\n",
       "GREY                  169\n",
       "RED                   138\n",
       "GREEN                 125\n",
       "YELLOW                 27\n",
       "BROWN                  20\n",
       "PINK                   15\n",
       "MULTICOLOR             14\n",
       "CORAL                   6\n",
       "SAND                    5\n",
       "CHAMPAGNE               5\n",
       "ICE                     5\n",
       "TUSCANY CORAL           4\n",
       "FROSTED CHAMPAGNE       3\n",
       "DUSK                    3\n",
       "AURORA                  2\n",
       "DIAMOND DAZZLE          2\n",
       "SUNSET MELODY           2\n",
       "DYNAMIC ORANGE          2\n",
       "LIGHTNING ORANGE        2\n",
       "ONION                   2\n",
       "MOONLIGHT JADE          2\n",
       "IRON                    2\n",
       "CREAM                   2\n",
       "SUNSET DAZZLE           2\n",
       "AURORA DAWN             2\n",
       "NEBULA                  2\n",
       "CELESTIAL SNOW          2\n",
       "MIDDAY DREAM            2\n",
       "PRISM MAGIC             1\n",
       "CYBER TEAL              1\n",
       "RICH CRANBERRY          1\n",
       "NORDIC SECRET           1\n",
       "TWILIGHT ORANGE         1\n",
       "CELESTIAL MAGIC         1\n",
       "FJORD                   1\n",
       "SPRITE                  1\n",
       "SMOKY SANGRIA           1\n",
       "PASTEL SKY              1\n",
       "GARLIC                  1\n",
       "NEON SPARK              1\n",
       "CONCRETE                1\n",
       "CARBON                  1\n",
       "DARK NEBULA             1\n",
       "DIAMOND FLARE           1\n",
       "SUNRISE FLARE           1\n",
       "ORANGE                  1\n",
       "SUNSET JAZZ             1\n",
       "CRYSTAL SYMPHONY        1\n",
       "SPORTY ORANGE           1\n",
       "ILLUSION SKY            1\n",
       "BALTIC                  1\n",
       "SUN KISSED LEATHER      1\n",
       "METALLIC SAGE           1\n",
       "PACIFIC SUNRISE         1\n",
       "COCKTAIL ORANGE         1\n",
       "Name: count, dtype: Int64"
      ]
     },
     "execution_count": 27,
     "metadata": {},
     "output_type": "execute_result"
    }
   ],
   "source": [
    "# Characterise colors based on substrings of colors\n",
    "sales_Df_Copy.loc[sales_Df_Copy['COLORS'].str.contains(\"BLACK\")|sales_Df_Copy['COLORS'].str.contains(\"GRAPHITE\")|sales_Df_Copy['COLORS'].str.contains(\"CHARCOAL\")|sales_Df_Copy['COLORS'].str.contains(\"NIGHT\"), 'COLORS'] = 'BLACK'\n",
    "sales_Df_Copy.loc[sales_Df_Copy['COLORS'].str.contains(\"BLUE\")|sales_Df_Copy['COLORS'].str.contains(\"AQUA\")|sales_Df_Copy['COLORS'].str.contains(\"NAVY\")|sales_Df_Copy['COLORS'].str.contains(\"SAPPHIRE\")|sales_Df_Copy['COLORS'].str.contains(\"CYAN\")|sales_Df_Copy['COLORS'].str.contains(\"OCEAN\"), 'COLORS'] = 'BLUE'\n",
    "sales_Df_Copy.loc[sales_Df_Copy['COLORS'].str.contains(\"WHITE\")| sales_Df_Copy['COLORS'].str.contains(\"PEARL\"), 'COLORS'] = 'WHITE'\n",
    "sales_Df_Copy.loc[sales_Df_Copy['COLORS'].str.contains(\"GOLD\"), 'COLORS'] = 'GOLD'\n",
    "sales_Df_Copy.loc[sales_Df_Copy['COLORS'].str.contains(\"SILVER\")|sales_Df_Copy['COLORS'].str.contains(\"PLATINUM\"), 'COLORS'] = 'SILVER'\n",
    "sales_Df_Copy.loc[sales_Df_Copy['COLORS'].str.contains(\"GREY\")| sales_Df_Copy['COLORS'].str.contains(\"GRAY\")| sales_Df_Copy['COLORS'].str.contains(\"TITAN\")| sales_Df_Copy['COLORS'].str.contains(\"STEEL\"), 'COLORS'] = 'GREY'\n",
    "sales_Df_Copy.loc[sales_Df_Copy['COLORS'].str.contains(\"RED\")| sales_Df_Copy['COLORS'].str.contains(\"RUBY\"), 'COLORS'] = 'RED'\n",
    "sales_Df_Copy.loc[sales_Df_Copy['COLORS'].str.contains(\"GREEN\")| sales_Df_Copy['COLORS'].str.contains(\"MINT\")| sales_Df_Copy['COLORS'].str.contains(\"EMERALD\"), 'COLORS'] = 'GREEN'\n",
    "sales_Df_Copy.loc[sales_Df_Copy['COLORS'].str.contains(\"PURPLE\")|sales_Df_Copy['COLORS'].str.contains(\"VIOLET\")|sales_Df_Copy['COLORS'].str.contains(\"LAVENDER\"), 'COLORS'] = 'BLACK'\n",
    "sales_Df_Copy.loc[sales_Df_Copy['COLORS'].str.contains(\"BRONZE\")|sales_Df_Copy['COLORS'].str.contains(\"COPPER\")|sales_Df_Copy['COLORS'].str.contains(\"BROWN\"), 'COLORS'] = 'BROWN'\n",
    "sales_Df_Copy.loc[sales_Df_Copy['COLORS'].str.contains(\"YELLOW\"), 'COLORS'] = 'YELLOW'\n",
    "sales_Df_Copy.loc[sales_Df_Copy['COLORS'].str.contains(\"PINK\"), 'COLORS'] = 'PINK'\n",
    "sales_Df_Copy.loc[sales_Df_Copy['COLORS'].str.contains(\"GLOW\")|sales_Df_Copy['COLORS'].str.contains(\"RAINBOW\"), 'COLORS'] = 'MULTICOLOR'\n",
    "\n",
    "print(\"Number of COLORS :\", len(sales_Df_Copy[\"COLORS\"].unique()))\n",
    "pd.set_option('display.max_rows', None)\n",
    "sales_Df_Copy[\"COLORS\"].value_counts()"
   ]
  },
  {
   "cell_type": "code",
   "execution_count": 28,
   "id": "2ea1226c",
   "metadata": {},
   "outputs": [
    {
     "name": "stdout",
     "output_type": "stream",
     "text": [
      "Number of COLORS : 13\n"
     ]
    },
    {
     "data": {
      "text/plain": [
       "COLORS\n",
       "BLACK         996\n",
       "BLUE          533\n",
       "WHITE         318\n",
       "GOLD          282\n",
       "SILVER        174\n",
       "GREY          169\n",
       "RED           138\n",
       "GREEN         125\n",
       "OTHERS         86\n",
       "YELLOW         27\n",
       "BROWN          20\n",
       "PINK           15\n",
       "MULTICOLOR     14\n",
       "Name: count, dtype: Int64"
      ]
     },
     "execution_count": 28,
     "metadata": {},
     "output_type": "execute_result"
    }
   ],
   "source": [
    "# Those records with 'COLORS' not in \"labeled_colors\" list, classify them as under 'OTHERS'\n",
    "labeled_colors = ['BLACK', 'BLUE', 'WHITE', 'GOLD', 'SILVER', 'GREY', 'RED', 'GREEN', 'PURPLE', 'BROWN', 'YELLOW', 'PINK','MULTICOLOR']\n",
    "unlabeled_colors = sales_Df_Copy[~sales_Df_Copy['COLORS'].isin(labeled_colors)]['COLORS'].unique()\n",
    "\n",
    "sales_Df_Copy.loc[sales_Df_Copy['COLORS'].isin(unlabeled_colors), 'COLORS'] = 'OTHERS'\n",
    "\n",
    "print(\"Number of COLORS :\", len(sales_Df_Copy[\"COLORS\"].unique()))\n",
    "pd.set_option('display.max_rows', None)\n",
    "sales_Df_Copy[\"COLORS\"].value_counts()"
   ]
  },
  {
   "cell_type": "code",
   "execution_count": 29,
   "id": "5d10f508",
   "metadata": {},
   "outputs": [
    {
     "name": "stdout",
     "output_type": "stream",
     "text": [
      "<class 'pandas.core.frame.DataFrame'>\n",
      "Index: 2897 entries, 0 to 3113\n",
      "Data columns (total 9 columns):\n",
      " #   Column               Non-Null Count  Dtype   \n",
      "---  ------               --------------  -----   \n",
      " 0   BRANDS               2897 non-null   string  \n",
      " 1   COLORS               2897 non-null   category\n",
      " 2   MEMORY               2897 non-null   category\n",
      " 3   STORAGE              2897 non-null   category\n",
      " 4   RATING               2897 non-null   float64 \n",
      " 5   SELLING_PRICE        2897 non-null   int64   \n",
      " 6   ORIGINAL_PRICE       2897 non-null   int64   \n",
      " 7   DISCOUNT             2897 non-null   int64   \n",
      " 8   DISCOUNT_PERCENTAGE  2897 non-null   float64 \n",
      "dtypes: category(3), float64(2), int64(3), string(1)\n",
      "memory usage: 168.3 KB\n"
     ]
    }
   ],
   "source": [
    "# Converting `COLORS` to `CATEGORY FORMAT`\n",
    "pd.reset_option('display.max_rows')\n",
    "sales_Df_Copy[['COLORS']] = sales_Df_Copy[['COLORS']].astype('category')\n",
    "sales_Df_Copy.info()"
   ]
  },
  {
   "cell_type": "markdown",
   "id": "64419611",
   "metadata": {},
   "source": [
    "#### Further cleaning on 'BRANDS'\n",
    "* Replacing ' ' with '_'\n",
    "* Identify Unique values of `BRANDS`\n",
    "* Converting `BRANDS` to `CATEGORY FORMAT`"
   ]
  },
  {
   "cell_type": "code",
   "execution_count": 30,
   "id": "b6d463f2",
   "metadata": {},
   "outputs": [
    {
     "name": "stdout",
     "output_type": "stream",
     "text": [
      "Number of BRANDS : 17\n"
     ]
    },
    {
     "data": {
      "text/plain": [
       "BRANDS\n",
       "SAMSUNG         685\n",
       "APPLE           319\n",
       "REALME          281\n",
       "OPPO            251\n",
       "XIAOMI          191\n",
       "NOKIA           184\n",
       "INFINIX         151\n",
       "GIONEE          127\n",
       "LENOVO          120\n",
       "VIVO            114\n",
       "ASUS            111\n",
       "MOTOROLA        103\n",
       "LG               98\n",
       "POCO             73\n",
       "HTC              55\n",
       "GOOGLE_PIXEL     29\n",
       "IQOO              5\n",
       "Name: count, dtype: Int64"
      ]
     },
     "execution_count": 30,
     "metadata": {},
     "output_type": "execute_result"
    }
   ],
   "source": [
    "# Replacing ' ' with '_'\n",
    "sales_Df_Copy['BRANDS'] = sales_Df_Copy['BRANDS'].str.replace(' ','_')\n",
    "print(\"Number of BRANDS :\", len(sales_Df_Copy[\"BRANDS\"].unique()))\n",
    "pd.set_option('display.max_rows', None)\n",
    "sales_Df_Copy[\"BRANDS\"].value_counts()"
   ]
  },
  {
   "cell_type": "code",
   "execution_count": 31,
   "id": "666ea1bc",
   "metadata": {},
   "outputs": [
    {
     "name": "stdout",
     "output_type": "stream",
     "text": [
      "<class 'pandas.core.frame.DataFrame'>\n",
      "Index: 2897 entries, 0 to 3113\n",
      "Data columns (total 9 columns):\n",
      " #   Column               Non-Null Count  Dtype   \n",
      "---  ------               --------------  -----   \n",
      " 0   BRANDS               2897 non-null   category\n",
      " 1   COLORS               2897 non-null   category\n",
      " 2   MEMORY               2897 non-null   category\n",
      " 3   STORAGE              2897 non-null   category\n",
      " 4   RATING               2897 non-null   float64 \n",
      " 5   SELLING_PRICE        2897 non-null   int64   \n",
      " 6   ORIGINAL_PRICE       2897 non-null   int64   \n",
      " 7   DISCOUNT             2897 non-null   int64   \n",
      " 8   DISCOUNT_PERCENTAGE  2897 non-null   float64 \n",
      "dtypes: category(4), float64(2), int64(3)\n",
      "memory usage: 149.2 KB\n"
     ]
    }
   ],
   "source": [
    "# Converting `BRANDS` to `CATEGORY FORMAT`\n",
    "sales_Df_Copy[['BRANDS']] = sales_Df_Copy[['BRANDS']].astype('category')\n",
    "sales_Df_Copy.info()"
   ]
  },
  {
   "cell_type": "markdown",
   "id": "5e10edd3",
   "metadata": {},
   "source": [
    "### Exporting Cleaned Data in CSV Format for Exploratory Data Analysis"
   ]
  },
  {
   "cell_type": "code",
   "execution_count": 32,
   "id": "c5477158",
   "metadata": {},
   "outputs": [
    {
     "name": "stdout",
     "output_type": "stream",
     "text": [
      "\n",
      "CSV String:\n",
      " None\n"
     ]
    }
   ],
   "source": [
    "# sales_Df_Copy_Data = sales_Df_Copy.to_csv('sales_Cleaned_v3.csv', index = False) \n",
    "# print('\\nCSV String:\\n', sales_Df_Copy_Data) "
   ]
  }
 ],
 "metadata": {
  "kernelspec": {
   "display_name": "Python 3 (ipykernel)",
   "language": "python",
   "name": "python3"
  },
  "language_info": {
   "codemirror_mode": {
    "name": "ipython",
    "version": 3
   },
   "file_extension": ".py",
   "mimetype": "text/x-python",
   "name": "python",
   "nbconvert_exporter": "python",
   "pygments_lexer": "ipython3",
   "version": "3.11.5"
  }
 },
 "nbformat": 4,
 "nbformat_minor": 5
}
